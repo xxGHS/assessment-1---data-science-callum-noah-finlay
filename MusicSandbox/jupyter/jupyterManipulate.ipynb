{
 "cells": [
  {
   "attachments": {},
   "cell_type": "markdown",
   "metadata": {},
   "source": [
    "let's say we want to add a 'rating' of 1-5 for each of the rows. So we again import the head"
   ]
  },
  {
   "cell_type": "code",
   "execution_count": 13,
   "metadata": {},
   "outputs": [
    {
     "data": {
      "text/html": [
       "<div>\n",
       "<style scoped>\n",
       "    .dataframe tbody tr th:only-of-type {\n",
       "        vertical-align: middle;\n",
       "    }\n",
       "\n",
       "    .dataframe tbody tr th {\n",
       "        vertical-align: top;\n",
       "    }\n",
       "\n",
       "    .dataframe thead th {\n",
       "        text-align: right;\n",
       "    }\n",
       "</style>\n",
       "<table border=\"1\" class=\"dataframe\">\n",
       "  <thead>\n",
       "    <tr style=\"text-align: right;\">\n",
       "      <th></th>\n",
       "      <th>Song Name</th>\n",
       "      <th>Artist</th>\n",
       "      <th>Album</th>\n",
       "      <th>Release Date</th>\n",
       "      <th>Duration (in seconds)</th>\n",
       "    </tr>\n",
       "  </thead>\n",
       "  <tbody>\n",
       "    <tr>\n",
       "      <th>0</th>\n",
       "      <td>\"Dynamite\"</td>\n",
       "      <td>BTS</td>\n",
       "      <td>Dynamite</td>\n",
       "      <td>21/08/2020</td>\n",
       "      <td>199</td>\n",
       "    </tr>\n",
       "    <tr>\n",
       "      <th>1</th>\n",
       "      <td>\"Levitating\"</td>\n",
       "      <td>Dua Lipa</td>\n",
       "      <td>Future Nostalgia</td>\n",
       "      <td>27/03/2020</td>\n",
       "      <td>203</td>\n",
       "    </tr>\n",
       "    <tr>\n",
       "      <th>2</th>\n",
       "      <td>\"Stay\"</td>\n",
       "      <td>The Kid LAROI, Justin Bieber</td>\n",
       "      <td>Stay</td>\n",
       "      <td>9/07/2021</td>\n",
       "      <td>141</td>\n",
       "    </tr>\n",
       "    <tr>\n",
       "      <th>3</th>\n",
       "      <td>\"Good 4 U\"</td>\n",
       "      <td>Olivia Rodrigo</td>\n",
       "      <td>Sour</td>\n",
       "      <td>14/05/2021</td>\n",
       "      <td>178</td>\n",
       "    </tr>\n",
       "    <tr>\n",
       "      <th>4</th>\n",
       "      <td>\"Industry Baby\"</td>\n",
       "      <td>Lil Nas X, Jack Harlow</td>\n",
       "      <td>Industry Baby</td>\n",
       "      <td>23/07/2021</td>\n",
       "      <td>212</td>\n",
       "    </tr>\n",
       "  </tbody>\n",
       "</table>\n",
       "</div>"
      ],
      "text/plain": [
       "         Song Name                        Artist             Album  \\\n",
       "0       \"Dynamite\"                           BTS          Dynamite   \n",
       "1     \"Levitating\"                      Dua Lipa  Future Nostalgia   \n",
       "2           \"Stay\"  The Kid LAROI, Justin Bieber              Stay   \n",
       "3       \"Good 4 U\"                Olivia Rodrigo              Sour   \n",
       "4  \"Industry Baby\"        Lil Nas X, Jack Harlow     Industry Baby   \n",
       "\n",
       "  Release Date  Duration (in seconds)  \n",
       "0   21/08/2020                    199  \n",
       "1   27/03/2020                    203  \n",
       "2    9/07/2021                    141  \n",
       "3   14/05/2021                    178  \n",
       "4   23/07/2021                    212  "
      ]
     },
     "metadata": {},
     "output_type": "display_data"
    }
   ],
   "source": [
    "import pandas as pd\n",
    "\n",
    "# Load music data from CSV file\n",
    "df = pd.read_csv(\"music.csv\")\n",
    "\n",
    "# Display the first few rows of the data\n",
    "display(df.head())"
   ]
  },
  {
   "attachments": {},
   "cell_type": "markdown",
   "metadata": {},
   "source": [
    "Now we add a new column for ratings"
   ]
  },
  {
   "cell_type": "code",
   "execution_count": 14,
   "metadata": {},
   "outputs": [],
   "source": [
    "# add a new column for rating, with default value of 0\n",
    "df['rating'] = 0"
   ]
  },
  {
   "attachments": {},
   "cell_type": "markdown",
   "metadata": {},
   "source": [
    "use the head() method on the DataFrame to print only the first few rows, and then pass a list of column names to the loc accessor to select only those columns. This will print only the column headers for the DataFrame, including the newly added \"Rating\" column."
   ]
  },
  {
   "cell_type": "code",
   "execution_count": 15,
   "metadata": {},
   "outputs": [
    {
     "name": "stdout",
     "output_type": "stream",
     "text": [
      "Artist    BTS\n",
      "rating      0\n",
      "Name: 0, dtype: object\n"
     ]
    }
   ],
   "source": [
    "# print the first few rows of the 'title' and 'rating' columns\n",
    "print(df.iloc[0][['Artist', 'rating']])\n",
    "\n",
    "# note that im using iloc here, which is integer location based indexing"
   ]
  },
  {
   "attachments": {},
   "cell_type": "markdown",
   "metadata": {},
   "source": [
    "Now we add a simple loop to move through the rows to add our rating"
   ]
  },
  {
   "cell_type": "code",
   "execution_count": 16,
   "metadata": {},
   "outputs": [
    {
     "name": "stdout",
     "output_type": "stream",
     "text": [
      "Please rate the song '\"Dynamite\"' by BTS:\n",
      "Please rate the song '\"Levitating\"' by Dua Lipa:\n",
      "Please rate the song '\"Stay\"' by The Kid LAROI, Justin Bieber:\n",
      "Please rate the song '\"Good 4 U\"' by Olivia Rodrigo:\n",
      "Please rate the song '\"Industry Baby\"' by Lil Nas X, Jack Harlow:\n",
      "Please rate the song '\"Montero (Call Me By Your Name)\"' by Lil Nas X:\n",
      "Please rate the song '\"Peaches\"' by Justin Bieber, Daniel Caesar, Giveon:\n",
      "Please rate the song '\"Kiss Me More\"' by Doja Cat, SZA:\n",
      "Please rate the song '\"Deja Vu\"' by Olivia Rodrigo:\n",
      "Please rate the song '\"Save Your Tears\"' by The Weeknd, Ariana Grande:\n",
      "Please rate the song '\"Heat Waves\"' by Glass Animals:\n",
      "Please rate the song '\"Blinding Lights\"' by The Weeknd:\n",
      "Please rate the song '\"Butter\"' by BTS:\n",
      "Please rate the song '\"Drivers License\"' by Olivia Rodrigo:\n",
      "Please rate the song '\"Mood\"' by 24kGoldn, Iann Dior:\n",
      "Please rate the song '\"Leave The Door Open\"' by Silk Sonic:\n",
      "Please rate the song '\"The Business\"' by Tiësto:\n",
      "Please rate the song '\"Famous Friends\"' by Chris Young, Kane Brown:\n",
      "Please rate the song '\"Peaches - Remix\"' by Justin Bieber, Ludacris, Usher, Snoop Dogg:\n",
      "Please rate the song '\"My Universe\"' by Coldplay, BTS:\n"
     ]
    }
   ],
   "source": [
    "# Loop through each row and prompt the user for a rating\n",
    "for i, row in df.iterrows():\n",
    "    print(f\"Please rate the song '{row['Song Name']}' by {row['Artist']}:\")\n",
    "    while True:\n",
    "        rating = input(\"Enter a rating between 1 (amazing) and 5 (don't like): \")\n",
    "        if rating.isdigit() and int(rating) >= 1 and int(rating) <= 5:\n",
    "            df.at[i, \"rating\"] = int(rating)\n",
    "            break\n",
    "        else:\n",
    "            print(\"Invalid rating. Please enter a number between 1 and 5.\")"
   ]
  },
  {
   "attachments": {},
   "cell_type": "markdown",
   "metadata": {},
   "source": [
    "Now we create a new datafile with our added rating. This is the basics of getting some personalisation happening with user ratings. The good news is, pandas and jupyter have lots of functions to help get data in and out."
   ]
  },
  {
   "cell_type": "code",
   "execution_count": 17,
   "metadata": {},
   "outputs": [
    {
     "data": {
      "text/html": [
       "<div>\n",
       "<style scoped>\n",
       "    .dataframe tbody tr th:only-of-type {\n",
       "        vertical-align: middle;\n",
       "    }\n",
       "\n",
       "    .dataframe tbody tr th {\n",
       "        vertical-align: top;\n",
       "    }\n",
       "\n",
       "    .dataframe thead th {\n",
       "        text-align: right;\n",
       "    }\n",
       "</style>\n",
       "<table border=\"1\" class=\"dataframe\">\n",
       "  <thead>\n",
       "    <tr style=\"text-align: right;\">\n",
       "      <th></th>\n",
       "      <th>Song Name</th>\n",
       "      <th>Artist</th>\n",
       "      <th>Album</th>\n",
       "      <th>Release Date</th>\n",
       "      <th>Duration (in seconds)</th>\n",
       "      <th>rating</th>\n",
       "    </tr>\n",
       "  </thead>\n",
       "  <tbody>\n",
       "    <tr>\n",
       "      <th>0</th>\n",
       "      <td>\"Dynamite\"</td>\n",
       "      <td>BTS</td>\n",
       "      <td>Dynamite</td>\n",
       "      <td>21/08/2020</td>\n",
       "      <td>199</td>\n",
       "      <td>1</td>\n",
       "    </tr>\n",
       "    <tr>\n",
       "      <th>1</th>\n",
       "      <td>\"Levitating\"</td>\n",
       "      <td>Dua Lipa</td>\n",
       "      <td>Future Nostalgia</td>\n",
       "      <td>27/03/2020</td>\n",
       "      <td>203</td>\n",
       "      <td>2</td>\n",
       "    </tr>\n",
       "    <tr>\n",
       "      <th>2</th>\n",
       "      <td>\"Stay\"</td>\n",
       "      <td>The Kid LAROI, Justin Bieber</td>\n",
       "      <td>Stay</td>\n",
       "      <td>9/07/2021</td>\n",
       "      <td>141</td>\n",
       "      <td>3</td>\n",
       "    </tr>\n",
       "    <tr>\n",
       "      <th>3</th>\n",
       "      <td>\"Good 4 U\"</td>\n",
       "      <td>Olivia Rodrigo</td>\n",
       "      <td>Sour</td>\n",
       "      <td>14/05/2021</td>\n",
       "      <td>178</td>\n",
       "      <td>4</td>\n",
       "    </tr>\n",
       "    <tr>\n",
       "      <th>4</th>\n",
       "      <td>\"Industry Baby\"</td>\n",
       "      <td>Lil Nas X, Jack Harlow</td>\n",
       "      <td>Industry Baby</td>\n",
       "      <td>23/07/2021</td>\n",
       "      <td>212</td>\n",
       "      <td>4</td>\n",
       "    </tr>\n",
       "  </tbody>\n",
       "</table>\n",
       "</div>"
      ],
      "text/plain": [
       "         Song Name                        Artist             Album  \\\n",
       "0       \"Dynamite\"                           BTS          Dynamite   \n",
       "1     \"Levitating\"                      Dua Lipa  Future Nostalgia   \n",
       "2           \"Stay\"  The Kid LAROI, Justin Bieber              Stay   \n",
       "3       \"Good 4 U\"                Olivia Rodrigo              Sour   \n",
       "4  \"Industry Baby\"        Lil Nas X, Jack Harlow     Industry Baby   \n",
       "\n",
       "  Release Date  Duration (in seconds)  rating  \n",
       "0   21/08/2020                    199       1  \n",
       "1   27/03/2020                    203       2  \n",
       "2    9/07/2021                    141       3  \n",
       "3   14/05/2021                    178       4  \n",
       "4   23/07/2021                    212       4  "
      ]
     },
     "metadata": {},
     "output_type": "display_data"
    }
   ],
   "source": [
    "# Save the data with the new rating column to a new CSV file\n",
    "df.to_csv(\"music_with_rating.csv\", index=False)\n",
    "\n",
    "# Display the first few rows of the data with the new rating column\n",
    "display(df.head())"
   ]
  },
  {
   "attachments": {},
   "cell_type": "markdown",
   "metadata": {},
   "source": [
    "At this point, you have a new file with data which you can use elsewhere. This could be a tkinter app or a web-based app."
   ]
  }
 ],
 "metadata": {
  "kernelspec": {
   "display_name": "Python 3",
   "language": "python",
   "name": "python3"
  },
  "language_info": {
   "codemirror_mode": {
    "name": "ipython",
    "version": 3
   },
   "file_extension": ".py",
   "mimetype": "text/x-python",
   "name": "python",
   "nbconvert_exporter": "python",
   "pygments_lexer": "ipython3",
   "version": "3.11.1"
  },
  "orig_nbformat": 4,
  "vscode": {
   "interpreter": {
    "hash": "c47c304a452f66f06d059b7cc76afc13ad9846d51eab099db7b672057bb05606"
   }
  }
 },
 "nbformat": 4,
 "nbformat_minor": 2
}
